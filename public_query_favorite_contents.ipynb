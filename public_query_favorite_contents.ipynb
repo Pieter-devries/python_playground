{
  "cells": [
    {
      "cell_type": "markdown",
      "metadata": {
        "id": "view-in-github",
        "colab_type": "text"
      },
      "source": [
        "<a href=\"https://colab.research.google.com/github/Pieter-devries/python_playground/blob/main/public_query_favorite_contents.ipynb\" target=\"_parent\"><img src=\"https://colab.research.google.com/assets/colab-badge.svg\" alt=\"Open In Colab\"/></a>"
      ]
    },
    {
      "cell_type": "markdown",
      "metadata": {
        "id": "ChWGVuKvL0hj"
      },
      "source": [
        "#Run me to initialize SDK\n",
        "Open cell to check individual functions"
      ]
    },
    {
      "cell_type": "code",
      "execution_count": null,
      "metadata": {
        "id": "gBqqmZONLlaI"
      },
      "outputs": [],
      "source": [
        "!pip install looker_sdk\n",
        "!pip install pandas"
      ]
    },
    {
      "cell_type": "code",
      "execution_count": null,
      "metadata": {
        "id": "oCKB_7_6Lrbj"
      },
      "outputs": [],
      "source": [
        "import looker_sdk #Note that the pip install required a hyphen but the import is an underscore.\n",
        "from looker_sdk import models as mdls #This is required for high-level sdk calls\n",
        "import os #We import os here in order to manage environment variables for the tutorial. You don't need to do this on a local system or anywhere you can more conveniently set environment variables.\n",
        "\n",
        "import json #This is a handy library for doing JSON work.\n",
        "\n",
        "from pandas import json_normalize\n"
      ]
    },
    {
      "cell_type": "code",
      "execution_count": null,
      "metadata": {
        "colab": {
          "base_uri": "https://localhost:8080/"
        },
        "id": "lUDQ3q5HLvAo",
        "outputId": "e9232434-33e8-44a7-df14-31e236bc916e"
      },
      "outputs": [
        {
          "output_type": "stream",
          "name": "stdout",
          "text": [
            "All environment variables set.\n"
          ]
        }
      ],
      "source": [
        "# Setup Environment Settings\n",
        "# Setup Instance/SDK information\n",
        "os.environ[\"LOOKERSDK_BASE_URL\"] = \"https://xxx.cloud.looker.com\" #If your looker URL has .cloud in it (hosted on GCP), do not include :19999 (ie: https://your.cloud.looker.com).\n",
        "os.environ[\"LOOKERSDK_API_VERSION\"] = \"4.0\" #3.1 is the default version. You can change this to 4.0 if you want.\n",
        "os.environ[\"LOOKERSDK_VERIFY_SSL\"] = \"true\" #Defaults to true if not set. SSL verification should generally be on unless you have a real good reason not to use it. Valid options: true, y, t, yes, 1.\n",
        "os.environ[\"LOOKERSDK_TIMEOUT\"] = \"120\" #Seconds till request timeout. Standard default is 120.\n",
        "\n",
        "# Setup User login information\n",
        "# Get the following values from your Users page in the Admin panel of your Looker instance > Users > Your user > Edit API keys. If you know your user id, you can visit https://your.looker.com/admin/users/<your_user_id>/edit.\n",
        "os.environ[\"LOOKERSDK_CLIENT_ID\"] =  \"\" #No defaults.\n",
        "os.environ[\"LOOKERSDK_CLIENT_SECRET\"] = \"\" #No defaults. This should be protected at all costs. Please do not leave it sitting here, even if you don't share this document.\n",
        "print(\"All environment variables set.\")"
      ]
    },
    {
      "cell_type": "code",
      "execution_count": null,
      "metadata": {
        "colab": {
          "base_uri": "https://localhost:8080/"
        },
        "id": "zA6vVL2OLzUn",
        "outputId": "061f494a-8f86-4a14-ad5f-fe56eb26ece1"
      },
      "outputs": [
        {
          "output_type": "stream",
          "name": "stdout",
          "text": [
            "Looker SDK 4.0 initialized successfully.\n"
          ]
        }
      ],
      "source": [
        "# Initialize sdk\n",
        "sdk = looker_sdk.init40()\n",
        "print('Looker SDK 4.0 initialized successfully.')"
      ]
    },
    {
      "cell_type": "markdown",
      "metadata": {
        "id": "1j5xJ4HPH7vp"
      },
      "source": [
        "# Create User/Dashboard list and functions"
      ]
    },
    {
      "cell_type": "code",
      "execution_count": null,
      "metadata": {
        "id": "vcTJcII9H_ss"
      },
      "outputs": [],
      "source": [
        "# Create User list with email/user_id values\n",
        "user_list = dict()\n",
        "users = sdk.all_users()\n",
        "for user in users:\n",
        "  if user['email'] and not user['is_disabled']: #removing users that don't have emails setup and aren't disabled\n",
        "    user_list[user['email']] = user['id']\n",
        "print(user_list)"
      ]
    },
    {
      "cell_type": "code",
      "execution_count": null,
      "metadata": {
        "id": "rbU-Dh2y2-wK"
      },
      "outputs": [],
      "source": [
        "# Create Dashboard list with title/content_metadata_id values\n",
        "dashboard_list = dict()\n",
        "dashboards = sdk.all_dashboards()\n",
        "for dashboard in dashboards:\n",
        "  if dashboard['content_metadata_id']: #removing dashboards without content_metadata_id\n",
        "    dashboard_list[dashboard['title']] = dashboard['content_metadata_id']\n",
        "print(dashboard_list)"
      ]
    },
    {
      "cell_type": "code",
      "execution_count": null,
      "metadata": {
        "id": "GO-4rDPr4InN"
      },
      "outputs": [],
      "source": [
        "# Check all dashboards if the current user has favorited them or not\n",
        "favorited_content = dict()\n",
        "\n",
        "def retrieve_favorite_content(): #Create a function so we can loop it for each user\n",
        "  for k,v in dashboard_list.items():\n",
        "    response = sdk.search_content_favorites(content_metadata_id=v)\n",
        "    if response:\n",
        "      email = [k for k,v in user_list.items() if v == response[0]['user_id']][0] #Change user_id into email for data readability\n",
        "      dashboard = [k for k,v in dashboard_list.items() if v == response[0]['content_metadata_id']][0] #Change content_metadata_id into dashboard name for data readability\n",
        "      if email in favorited_content: #If we already have a favorited content, we need to append the new content\n",
        "        favorited_content[email].append(dashboard)\n",
        "      else: #If we don't have any favorited content yet, we add the new content as a list\n",
        "        favorited_content[email] = []\n",
        "        favorited_content[email].append(dashboard)\n",
        "\n"
      ]
    },
    {
      "cell_type": "markdown",
      "source": [
        "#Retrieve favorited content for all users"
      ],
      "metadata": {
        "id": "NzxdEFOsTFzJ"
      }
    },
    {
      "cell_type": "code",
      "execution_count": null,
      "metadata": {
        "id": "w64CTPvJDVK4"
      },
      "outputs": [],
      "source": [
        "for k,v in user_list.items():\n",
        "  sdk.auth.logout() #This is required if you stopped the sdk mid-way\n",
        "  sudo_auth = sdk.login_user(v)\n",
        "  sdk.auth.login_user(v)\n",
        "  retrieve_favorite_content()\n",
        "print(favorited_content)"
      ]
    }
  ],
  "metadata": {
    "accelerator": "GPU",
    "colab": {
      "collapsed_sections": [
        "PhTZpjrSL37Z",
        "QwLfl76P4Vzz",
        "VZts2VFPnKtM"
      ],
      "machine_shape": "hm",
      "provenance": [],
      "include_colab_link": true
    },
    "gpuClass": "premium",
    "kernelspec": {
      "display_name": "Python 3",
      "name": "python3"
    },
    "language_info": {
      "name": "python"
    }
  },
  "nbformat": 4,
  "nbformat_minor": 0
}