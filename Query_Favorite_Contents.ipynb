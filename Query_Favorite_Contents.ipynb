{
  "cells": [
    {
      "cell_type": "markdown",
      "metadata": {
        "id": "view-in-github",
        "colab_type": "text"
      },
      "source": [
        "<a href=\"https://colab.research.google.com/github/Pieter-devries/python_playground/blob/main/Query_Favorite_Contents.ipynb\" target=\"_parent\"><img src=\"https://colab.research.google.com/assets/colab-badge.svg\" alt=\"Open In Colab\"/></a>"
      ]
    },
    {
      "cell_type": "markdown",
      "metadata": {
        "id": "ChWGVuKvL0hj"
      },
      "source": [
        "#Run me to initialize SDK\n",
        "Open cell to check individual functions"
      ]
    },
    {
      "cell_type": "code",
      "execution_count": null,
      "metadata": {
        "colab": {
          "base_uri": "https://localhost:8080/"
        },
        "id": "gBqqmZONLlaI",
        "outputId": "099d2b46-10e5-4e2d-b44f-9c946d8780f6"
      },
      "outputs": [
        {
          "output_type": "stream",
          "name": "stdout",
          "text": [
            "Looking in indexes: https://pypi.org/simple, https://us-python.pkg.dev/colab-wheels/public/simple/\n",
            "Collecting looker_sdk\n",
            "  Downloading looker_sdk-22.20.0-py3-none-any.whl (344 kB)\n",
            "\u001b[K     |████████████████████████████████| 344 kB 5.2 MB/s \n",
            "\u001b[?25hRequirement already satisfied: typing-extensions>=4.1.1 in /usr/local/lib/python3.7/dist-packages (from looker_sdk) (4.1.1)\n",
            "Requirement already satisfied: requests>=2.22 in /usr/local/lib/python3.7/dist-packages (from looker_sdk) (2.23.0)\n",
            "Requirement already satisfied: attrs>=20.1.0 in /usr/local/lib/python3.7/dist-packages (from looker_sdk) (22.1.0)\n",
            "Collecting cattrs>=1.3\n",
            "  Downloading cattrs-22.2.0-py3-none-any.whl (35 kB)\n",
            "Collecting exceptiongroup\n",
            "  Downloading exceptiongroup-1.0.4-py3-none-any.whl (14 kB)\n",
            "Requirement already satisfied: idna<3,>=2.5 in /usr/local/lib/python3.7/dist-packages (from requests>=2.22->looker_sdk) (2.10)\n",
            "Requirement already satisfied: chardet<4,>=3.0.2 in /usr/local/lib/python3.7/dist-packages (from requests>=2.22->looker_sdk) (3.0.4)\n",
            "Requirement already satisfied: certifi>=2017.4.17 in /usr/local/lib/python3.7/dist-packages (from requests>=2.22->looker_sdk) (2022.9.24)\n",
            "Requirement already satisfied: urllib3!=1.25.0,!=1.25.1,<1.26,>=1.21.1 in /usr/local/lib/python3.7/dist-packages (from requests>=2.22->looker_sdk) (1.24.3)\n",
            "Installing collected packages: exceptiongroup, cattrs, looker-sdk\n",
            "Successfully installed cattrs-22.2.0 exceptiongroup-1.0.4 looker-sdk-22.20.0\n",
            "Looking in indexes: https://pypi.org/simple, https://us-python.pkg.dev/colab-wheels/public/simple/\n",
            "Requirement already satisfied: pandas in /usr/local/lib/python3.7/dist-packages (1.3.5)\n",
            "Requirement already satisfied: python-dateutil>=2.7.3 in /usr/local/lib/python3.7/dist-packages (from pandas) (2.8.2)\n",
            "Requirement already satisfied: pytz>=2017.3 in /usr/local/lib/python3.7/dist-packages (from pandas) (2022.6)\n",
            "Requirement already satisfied: numpy>=1.17.3 in /usr/local/lib/python3.7/dist-packages (from pandas) (1.21.6)\n",
            "Requirement already satisfied: six>=1.5 in /usr/local/lib/python3.7/dist-packages (from python-dateutil>=2.7.3->pandas) (1.15.0)\n"
          ]
        }
      ],
      "source": [
        "!pip install looker_sdk\n",
        "!pip install pandas"
      ]
    },
    {
      "cell_type": "code",
      "execution_count": null,
      "metadata": {
        "id": "oCKB_7_6Lrbj"
      },
      "outputs": [],
      "source": [
        "import looker_sdk #Note that the pip install required a hyphen but the import is an underscore.\n",
        "from looker_sdk import models as mdls #This is required for high-level sdk calls\n",
        "import os #We import os here in order to manage environment variables for the tutorial. You don't need to do this on a local system or anywhere you can more conveniently set environment variables.\n",
        "\n",
        "import json #This is a handy library for doing JSON work.\n",
        "\n",
        "from pandas import json_normalize\n"
      ]
    },
    {
      "cell_type": "code",
      "execution_count": null,
      "metadata": {
        "colab": {
          "base_uri": "https://localhost:8080/"
        },
        "id": "lUDQ3q5HLvAo",
        "outputId": "e9232434-33e8-44a7-df14-31e236bc916e"
      },
      "outputs": [
        {
          "output_type": "stream",
          "name": "stdout",
          "text": [
            "All environment variables set.\n"
          ]
        }
      ],
      "source": [
        "# Setup Environment Settings\n",
        "# Setup Instance/SDK information\n",
        "os.environ[\"LOOKERSDK_BASE_URL\"] = \"https://switchback.cloud.looker.com\" #If your looker URL has .cloud in it (hosted on GCP), do not include :19999 (ie: https://your.cloud.looker.com).\n",
        "os.environ[\"LOOKERSDK_API_VERSION\"] = \"4.0\" #3.1 is the default version. You can change this to 4.0 if you want.\n",
        "os.environ[\"LOOKERSDK_VERIFY_SSL\"] = \"true\" #Defaults to true if not set. SSL verification should generally be on unless you have a real good reason not to use it. Valid options: true, y, t, yes, 1.\n",
        "os.environ[\"LOOKERSDK_TIMEOUT\"] = \"120\" #Seconds till request timeout. Standard default is 120.\n",
        "\n",
        "# Setup User login information\n",
        "# Get the following values from your Users page in the Admin panel of your Looker instance > Users > Your user > Edit API keys. If you know your user id, you can visit https://your.looker.com/admin/users/<your_user_id>/edit.\n",
        "os.environ[\"LOOKERSDK_CLIENT_ID\"] =  \"MrnXgW9T68m6ws55rB4m\" #No defaults.\n",
        "os.environ[\"LOOKERSDK_CLIENT_SECRET\"] = \"S4JRGdnWfq2Hb6PC6phRcNfS\" #No defaults. This should be protected at all costs. Please do not leave it sitting here, even if you don't share this document.\n",
        "print(\"All environment variables set.\")"
      ]
    },
    {
      "cell_type": "code",
      "execution_count": null,
      "metadata": {
        "colab": {
          "base_uri": "https://localhost:8080/"
        },
        "id": "zA6vVL2OLzUn",
        "outputId": "061f494a-8f86-4a14-ad5f-fe56eb26ece1"
      },
      "outputs": [
        {
          "output_type": "stream",
          "name": "stdout",
          "text": [
            "Looker SDK 4.0 initialized successfully.\n"
          ]
        }
      ],
      "source": [
        "# Initialize sdk\n",
        "sdk = looker_sdk.init40()\n",
        "print('Looker SDK 4.0 initialized successfully.')"
      ]
    },
    {
      "cell_type": "markdown",
      "metadata": {
        "id": "1j5xJ4HPH7vp"
      },
      "source": [
        "# Get User List"
      ]
    },
    {
      "cell_type": "code",
      "execution_count": null,
      "metadata": {
        "colab": {
          "base_uri": "https://localhost:8080/"
        },
        "id": "vcTJcII9H_ss",
        "outputId": "9c0285d6-6671-4589-c0ec-fb816cccab08"
      },
      "outputs": [
        {
          "output_type": "stream",
          "name": "stdout",
          "text": [
            "{'gsatyanarayana21@gmail.com': '179', 'ismailadeyemi@google.com': '32', 'akashkragarwal@google.com': '5', 'kenellysra@google.com': '20', 'yanzai@google.com': '58', 'christopherav@google.com': '166', 'jayantb@google.com': '43', 'vbari@google.com': '160', 'bariksourav@google.com': '88', 'raghaveni@google.com': '157', 'mannybhatia@google.com': '147', 'sayanbiswas@google.com': '85', 'alet@google.com': '156', 'ryan.bouquet@looker.com': '1', 'theobrowne@google.com': '82', 'edgardol@google.com': '164', 'mrkitten@google.com': '182', 'heliocampos@google.com': '91', 'scomerford@google.com': '134', 'jcort@google.com': '46', 'gowriswari@google.com': '180', 'pieterdevries@google.com': '21', 'pieterdevries+changed@google.com': '26', 'dharmadhikari@google.com': '141', 'nourad@google.com': '8', 'mebadi@google.com': '90', 'artellis@google.com': '92', 'joespla@google.com': '81', 'gadugoyyala@google.com': '25', 'gadugoyyala@looker.com': '53', 'pushkargoel@google.com': '16', 'boydahardy@google.com': '177', 'hijuancarlos@google.com': '29', 'yajain@google.com': '75', 'jenakumar@google.com': '56', 'arpnajoshi@google.com': '33', 'sidneyjunior@google.com': '31', 'kshalu@google.com': '158', 'kanere@google.com': '69', 'kantubothu@google.com': '173', 'skanungo@google.com': '74', 'tarank@google.com': '138', 'shashwathk@google.com': '142', 'kkesanakurthi@google.com': '159', 'skiro@google.com': '78', 'ikonovalenko@google.com': '175', 'kumaramitt@google.com': '55', 'khushbukumari@google.com': '23', 'kuriki@google.com': '15', 'ryookuriki@gmail.com': '45', 'lacayomorales@google.com': '28', 'calvilee@google.com': '165', 'corlee@google.com': '97', 'ugen@google.com': '178', 'vleepkaln@google.com': '13', 'yonatanlerner@google.com': '94', 'linnali@google.com': '27', 'linnali@looker.com': '86', 'yaozhong@google.com': '162', 'aloginov@google.com': '172', 'montjlo@google.com': '99', 'vsmg@google.com': '163', 'gusmartin@google.com': '17', 'test@test.com': '22', 'vyasakh@google.com': '6', 'lmoorthy@google.com': '84', 'krishnakavya@google.com': '10', 'kmudunuri@google.com': '152', 'mukulmunjal@google.com': '47', 'muppa@google.com': '149', 'quynhanh@google.com': '98', 'anadolskiy@google.com': '61', 'saenakano@google.com': '11', 'saenakano+1@google.com': '40', 'sae.nakano+111@looker.com': '59', 'james.nestler@looker.com': '2', 'jamesnestler@google.com': '3', 'nidijintha@google.com': '137', 'kondlen@google.com': '140', 'flavialooker@google.com': '64', 'jamesnestler+adminserviceaccount@google.com': '42', 'spalika@google.com': '52', 'npalugula@google.com': '154', 'irinapanchenko@google.com': '171', 'sibanip@google.com': '51', 'pavonrivera@google.com': '30', 'vpenumallu@google.com': '168', 'peralez@google.com': '80', 'pinnepalli@google.com': '73', 'andresportillo@google.com': '95', 'npoulson@google.com': '181', 'jamespowers@google.com': '176', 'oflo@google.com': '7', 'yelleti@google.com': '136', 'apyata@google.com': '62', 'rragipindi@google.com': '135', 'arajmane@google.com': '183', 'manyalar@google.com': '184', 'jreinhard@google.com': '100', 'leobardor@google.com': '44', 'aromanmartinez@google.com': '144', 'arpitasahoo@google.com': '161', 'sankalpas@google.com': '72', 'alexsalmon@google.com': '89', 'saridey@google.com': '77', 'anthonyschott@google.com': '93', 'jackscott@google.com': '153', 'debdoot@google.com': '50', 'senthilvel@google.com': '71', 'kruncha@google.com': '169', 'sharmamohinesh@google.com': '155', 'benshope@google.com': '148', 'kunalsing@google.com': '24', 'diegoslo@google.com': '14', 'srikanthlnu@google.com': '76', 'rkuriki95@gmail.com': '146', 'jswett@google.com': '143', 'davidtamaki@google.com': '79', 'vamt@google.com': '49', 'haritha@abc.com': '185', 'test@lookertest.com': '57', 'jonting@google.com': '96', 'lantrann@google.com': '4', 'arunkanth@google.com': '70', 'saikruthi@google.com': '60', 'swapnikav@google.com': '68', 'shalaniw@google.com': '170', 'jirow@google.com': '9', 'yangstanley@google.com': '48'}\n"
          ]
        }
      ],
      "source": [
        "# Create User list with email/user_id values\n",
        "user_list = dict()\n",
        "users = sdk.all_users()\n",
        "for user in users:\n",
        "  if user['email'] and not user['is_disabled']: #removing users that don't have emails setup and aren't disabled\n",
        "    user_list[user['email']] = user['id']\n",
        "print(user_list)"
      ]
    },
    {
      "cell_type": "code",
      "execution_count": null,
      "metadata": {
        "colab": {
          "base_uri": "https://localhost:8080/"
        },
        "id": "rbU-Dh2y2-wK",
        "outputId": "a54c9f25-6139-4553-e401-70fb9eab1824"
      },
      "outputs": [
        {
          "output_type": "stream",
          "name": "stdout",
          "text": [
            "{'test': '18', 'Embed Dashboard': '29', 'Users Test Dashboard': '32', 'Users Test Age and Country': '33', 'Users Count test': '36', 'Video Analytics': '49', 'Map indicating No. of cities/state': '56', 'India AQI analysis (2015-2020)': '59', 'download test': '60', 'Month Wise Distribution': '61', 'Top 10 Polluted Cities': '62', \"Covid🦠 effect on AQI😷 in India's Megacities\": '70', 'Map indicating Avg. AQI/state': '76', 'Sample': '77', '228925690 bug repro': '82', 'Orders_DB': '83', 'orderitems_DB': '85', 'Video_Series': '86', 'D2': '108', 'D1': '109', 'Best Episode': '112', 'Real Time AQI': '116', 'Suggested Data by Avg Rating': '122', 'test_timezone': '127', 'T1': '129', 'T2': '255', 'Sneaker shares on StockX': '142', 'Sneaker Brand Insights': '143', 'Sneaker Model Insight': '144', 'Rating Overview': '156', 'Categories Overview': '159', \"Let's talk air pollution\": '164', '⚠️': '165', 'Category Analysis': '178', 'Boardgame Analysis': '181', \"Welcome to Mukul's Thesis\": '197', 'Initiative on Air Pollution reduction in India': '198', 'Map_vis_test': '199', 'Women_dresses_Data': '219', 'Women_clothing_data': '220', 'Most Popular Item': '221', 'Women E-commerce Clothing Review ': '224', 'Most Popular Item in each Category': '231', 'test dash': '232', 'thirdparty': '233', \"Welcome to Diego's Thesis\": '234', 'Positive comments general key points': '235', 'bandainamco bug': '236', 'OYtest': '249', 'Satya': '251', 'recruitmarketingpartners': '337', 'Teat': '254', '517068 drill_test_target': '257', 'LiquidDash': '281', 'Mortality rate due to Covid': '290', 'html_demo_dash': '303', 'bug repro': '304', 'date filter': '305', 'abc': '308', 'repro_dukebi': '321', 'L1': '323', 'bitflyer bug repro': '342', 'test_agg_table': '347', 'ab': '361', 'Embed_events': '368', 'dynamic running total': '370', 'date_filter': '371', 'Test': '373', 'Test_Dashbrd': '380', 'sample': '384', 'Youtube_n': '385', 'Campaign': '389', 'campaign test': '390', 'iOS bug repro': '391', 'Check': '398', 'newnewnew': '413', 'new__looook': '415', 'new dashboard new': '416', 'newwwwwnewwwwwww': '417', 'new dash 1': '418', 'tab(report)': '419', 'limit5000_table viz': '420', 'users': '423'}\n"
          ]
        }
      ],
      "source": [
        "# Create Dashboard list with title/content_metadata_id values\n",
        "dashboard_list = dict()\n",
        "dashboards = sdk.all_dashboards()\n",
        "for dashboard in dashboards:\n",
        "  if dashboard['content_metadata_id']: #removing dashboards without content_metadata_id\n",
        "    dashboard_list[dashboard['title']] = dashboard['content_metadata_id']\n",
        "print(dashboard_list)"
      ]
    },
    {
      "cell_type": "code",
      "execution_count": null,
      "metadata": {
        "id": "GO-4rDPr4InN"
      },
      "outputs": [],
      "source": [
        "# Check all dashboards if the current user has favorited them or not\n",
        "favorited_content = dict()\n",
        "\n",
        "def retrieve_favorite_content(): #Create a function so we can loop it for each user\n",
        "  for k,v in dashboard_list.items():\n",
        "    response = sdk.search_content_favorites(content_metadata_id=v)\n",
        "    if response:\n",
        "      email = [k for k,v in user_list.items() if v == response[0]['user_id']][0] #Change user_id into email for data readability\n",
        "      dashboard = [k for k,v in dashboard_list.items() if v == response[0]['content_metadata_id']][0] #Change content_metadata_id into dashboard name for data readability\n",
        "      if email in favorited_content: #If we already have a favorited content, we need to append the new content\n",
        "        favorited_content[email].append(dashboard)\n",
        "      else: #If we don't have any favorited content yet, we add the new content as a list\n",
        "        favorited_content[email] = []\n",
        "        favorited_content[email].append(dashboard)\n",
        "\n"
      ]
    },
    {
      "cell_type": "code",
      "execution_count": null,
      "metadata": {
        "colab": {
          "base_uri": "https://localhost:8080/",
          "height": 418
        },
        "id": "w64CTPvJDVK4",
        "outputId": "e3aa3d0e-5544-457a-e43c-7c00dc9b864d"
      },
      "outputs": [
        {
          "output_type": "stream",
          "name": "stderr",
          "text": [
            "/usr/local/lib/python3.7/dist-packages/looker_sdk/sdk/api40/methods.py:432: UserWarning: login_user behavior changed significantly in 21.4.0. See https://git.io/JOtH1\n",
            "  \"login_user behavior changed significantly in 21.4.0. See https://git.io/JOtH1\"\n"
          ]
        },
        {
          "output_type": "error",
          "ename": "KeyboardInterrupt",
          "evalue": "ignored",
          "traceback": [
            "\u001b[0;31m---------------------------------------------------------------------------\u001b[0m",
            "\u001b[0;31mKeyboardInterrupt\u001b[0m                         Traceback (most recent call last)",
            "\u001b[0;32m<ipython-input-8-3540535f6566>\u001b[0m in \u001b[0;36m<module>\u001b[0;34m\u001b[0m\n\u001b[1;32m      3\u001b[0m   \u001b[0msudo_auth\u001b[0m \u001b[0;34m=\u001b[0m \u001b[0msdk\u001b[0m\u001b[0;34m.\u001b[0m\u001b[0mlogin_user\u001b[0m\u001b[0;34m(\u001b[0m\u001b[0mv\u001b[0m\u001b[0;34m)\u001b[0m\u001b[0;34m\u001b[0m\u001b[0;34m\u001b[0m\u001b[0m\n\u001b[1;32m      4\u001b[0m   \u001b[0msdk\u001b[0m\u001b[0;34m.\u001b[0m\u001b[0mauth\u001b[0m\u001b[0;34m.\u001b[0m\u001b[0mlogin_user\u001b[0m\u001b[0;34m(\u001b[0m\u001b[0mv\u001b[0m\u001b[0;34m)\u001b[0m\u001b[0;34m\u001b[0m\u001b[0;34m\u001b[0m\u001b[0m\n\u001b[0;32m----> 5\u001b[0;31m   \u001b[0mretrieve_favorite_content\u001b[0m\u001b[0;34m(\u001b[0m\u001b[0;34m)\u001b[0m\u001b[0;34m\u001b[0m\u001b[0;34m\u001b[0m\u001b[0m\n\u001b[0m\u001b[1;32m      6\u001b[0m \u001b[0mprint\u001b[0m\u001b[0;34m(\u001b[0m\u001b[0mfavorited_content\u001b[0m\u001b[0;34m)\u001b[0m\u001b[0;34m\u001b[0m\u001b[0;34m\u001b[0m\u001b[0m\n",
            "\u001b[0;32m<ipython-input-7-bcdd55cd3e66>\u001b[0m in \u001b[0;36mretrieve_favorite_content\u001b[0;34m()\u001b[0m\n\u001b[1;32m      4\u001b[0m \u001b[0;32mdef\u001b[0m \u001b[0mretrieve_favorite_content\u001b[0m\u001b[0;34m(\u001b[0m\u001b[0;34m)\u001b[0m\u001b[0;34m:\u001b[0m \u001b[0;31m#Create a function so we can loop it for each user\u001b[0m\u001b[0;34m\u001b[0m\u001b[0;34m\u001b[0m\u001b[0m\n\u001b[1;32m      5\u001b[0m   \u001b[0;32mfor\u001b[0m \u001b[0mk\u001b[0m\u001b[0;34m,\u001b[0m\u001b[0mv\u001b[0m \u001b[0;32min\u001b[0m \u001b[0mdashboard_list\u001b[0m\u001b[0;34m.\u001b[0m\u001b[0mitems\u001b[0m\u001b[0;34m(\u001b[0m\u001b[0;34m)\u001b[0m\u001b[0;34m:\u001b[0m\u001b[0;34m\u001b[0m\u001b[0;34m\u001b[0m\u001b[0m\n\u001b[0;32m----> 6\u001b[0;31m     \u001b[0mresponse\u001b[0m \u001b[0;34m=\u001b[0m \u001b[0msdk\u001b[0m\u001b[0;34m.\u001b[0m\u001b[0msearch_content_favorites\u001b[0m\u001b[0;34m(\u001b[0m\u001b[0mcontent_metadata_id\u001b[0m\u001b[0;34m=\u001b[0m\u001b[0mv\u001b[0m\u001b[0;34m)\u001b[0m\u001b[0;34m\u001b[0m\u001b[0;34m\u001b[0m\u001b[0m\n\u001b[0m\u001b[1;32m      7\u001b[0m     \u001b[0;32mif\u001b[0m \u001b[0mresponse\u001b[0m\u001b[0;34m:\u001b[0m\u001b[0;34m\u001b[0m\u001b[0;34m\u001b[0m\u001b[0m\n\u001b[1;32m      8\u001b[0m       \u001b[0memail\u001b[0m \u001b[0;34m=\u001b[0m \u001b[0;34m[\u001b[0m\u001b[0mk\u001b[0m \u001b[0;32mfor\u001b[0m \u001b[0mk\u001b[0m\u001b[0;34m,\u001b[0m\u001b[0mv\u001b[0m \u001b[0;32min\u001b[0m \u001b[0muser_list\u001b[0m\u001b[0;34m.\u001b[0m\u001b[0mitems\u001b[0m\u001b[0;34m(\u001b[0m\u001b[0;34m)\u001b[0m \u001b[0;32mif\u001b[0m \u001b[0mv\u001b[0m \u001b[0;34m==\u001b[0m \u001b[0mresponse\u001b[0m\u001b[0;34m[\u001b[0m\u001b[0;36m0\u001b[0m\u001b[0;34m]\u001b[0m\u001b[0;34m[\u001b[0m\u001b[0;34m'user_id'\u001b[0m\u001b[0;34m]\u001b[0m\u001b[0;34m]\u001b[0m\u001b[0;34m[\u001b[0m\u001b[0;36m0\u001b[0m\u001b[0;34m]\u001b[0m \u001b[0;31m#Change user_id into email for data readability\u001b[0m\u001b[0;34m\u001b[0m\u001b[0;34m\u001b[0m\u001b[0m\n",
            "\u001b[0;32m/usr/local/lib/python3.7/dist-packages/looker_sdk/sdk/api40/methods.py\u001b[0m in \u001b[0;36msearch_content_favorites\u001b[0;34m(self, id, user_id, content_metadata_id, dashboard_id, look_id, board_id, limit, offset, sorts, fields, filter_or, transport_options)\u001b[0m\n\u001b[1;32m   3986\u001b[0m                     \u001b[0;34m\"filter_or\"\u001b[0m\u001b[0;34m:\u001b[0m \u001b[0mfilter_or\u001b[0m\u001b[0;34m,\u001b[0m\u001b[0;34m\u001b[0m\u001b[0;34m\u001b[0m\u001b[0m\n\u001b[1;32m   3987\u001b[0m                 },\n\u001b[0;32m-> 3988\u001b[0;31m                 \u001b[0mtransport_options\u001b[0m\u001b[0;34m=\u001b[0m\u001b[0mtransport_options\u001b[0m\u001b[0;34m,\u001b[0m\u001b[0;34m\u001b[0m\u001b[0;34m\u001b[0m\u001b[0m\n\u001b[0m\u001b[1;32m   3989\u001b[0m             ),\n\u001b[1;32m   3990\u001b[0m         )\n",
            "\u001b[0;32m/usr/local/lib/python3.7/dist-packages/looker_sdk/rtl/api_methods.py\u001b[0m in \u001b[0;36mget\u001b[0;34m(self, path, structure, query_params, transport_options)\u001b[0m\n\u001b[1;32m    145\u001b[0m             \u001b[0mbody\u001b[0m\u001b[0;34m=\u001b[0m\u001b[0;32mNone\u001b[0m\u001b[0;34m,\u001b[0m\u001b[0;34m\u001b[0m\u001b[0;34m\u001b[0m\u001b[0m\n\u001b[1;32m    146\u001b[0m             \u001b[0mauthenticator\u001b[0m\u001b[0;34m=\u001b[0m\u001b[0mself\u001b[0m\u001b[0;34m.\u001b[0m\u001b[0mauth\u001b[0m\u001b[0;34m.\u001b[0m\u001b[0mauthenticate\u001b[0m\u001b[0;34m,\u001b[0m\u001b[0;34m\u001b[0m\u001b[0;34m\u001b[0m\u001b[0m\n\u001b[0;32m--> 147\u001b[0;31m             \u001b[0mtransport_options\u001b[0m\u001b[0;34m=\u001b[0m\u001b[0mtransport_options\u001b[0m\u001b[0;34m,\u001b[0m\u001b[0;34m\u001b[0m\u001b[0;34m\u001b[0m\u001b[0m\n\u001b[0m\u001b[1;32m    148\u001b[0m         )\n\u001b[1;32m    149\u001b[0m         \u001b[0;32mreturn\u001b[0m \u001b[0mself\u001b[0m\u001b[0;34m.\u001b[0m\u001b[0m_return\u001b[0m\u001b[0;34m(\u001b[0m\u001b[0mresponse\u001b[0m\u001b[0;34m,\u001b[0m \u001b[0mstructure\u001b[0m\u001b[0;34m)\u001b[0m\u001b[0;34m\u001b[0m\u001b[0;34m\u001b[0m\u001b[0m\n",
            "\u001b[0;32m/usr/local/lib/python3.7/dist-packages/looker_sdk/rtl/requests_transport.py\u001b[0m in \u001b[0;36mrequest\u001b[0;34m(self, method, path, query_params, body, authenticator, transport_options)\u001b[0m\n\u001b[1;32m     79\u001b[0m                 \u001b[0mdata\u001b[0m\u001b[0;34m=\u001b[0m\u001b[0mbody\u001b[0m\u001b[0;34m,\u001b[0m\u001b[0;34m\u001b[0m\u001b[0;34m\u001b[0m\u001b[0m\n\u001b[1;32m     80\u001b[0m                 \u001b[0mheaders\u001b[0m\u001b[0;34m=\u001b[0m\u001b[0mheaders\u001b[0m\u001b[0;34m,\u001b[0m\u001b[0;34m\u001b[0m\u001b[0;34m\u001b[0m\u001b[0m\n\u001b[0;32m---> 81\u001b[0;31m                 \u001b[0mtimeout\u001b[0m\u001b[0;34m=\u001b[0m\u001b[0mtimeout\u001b[0m\u001b[0;34m,\u001b[0m\u001b[0;34m\u001b[0m\u001b[0;34m\u001b[0m\u001b[0m\n\u001b[0m\u001b[1;32m     82\u001b[0m             )\n\u001b[1;32m     83\u001b[0m         \u001b[0;32mexcept\u001b[0m \u001b[0mIOError\u001b[0m \u001b[0;32mas\u001b[0m \u001b[0mexc\u001b[0m\u001b[0;34m:\u001b[0m\u001b[0;34m\u001b[0m\u001b[0;34m\u001b[0m\u001b[0m\n",
            "\u001b[0;32m/usr/local/lib/python3.7/dist-packages/requests/sessions.py\u001b[0m in \u001b[0;36mrequest\u001b[0;34m(self, method, url, params, data, headers, cookies, files, auth, timeout, allow_redirects, proxies, hooks, stream, verify, cert, json)\u001b[0m\n\u001b[1;32m    528\u001b[0m         }\n\u001b[1;32m    529\u001b[0m         \u001b[0msend_kwargs\u001b[0m\u001b[0;34m.\u001b[0m\u001b[0mupdate\u001b[0m\u001b[0;34m(\u001b[0m\u001b[0msettings\u001b[0m\u001b[0;34m)\u001b[0m\u001b[0;34m\u001b[0m\u001b[0;34m\u001b[0m\u001b[0m\n\u001b[0;32m--> 530\u001b[0;31m         \u001b[0mresp\u001b[0m \u001b[0;34m=\u001b[0m \u001b[0mself\u001b[0m\u001b[0;34m.\u001b[0m\u001b[0msend\u001b[0m\u001b[0;34m(\u001b[0m\u001b[0mprep\u001b[0m\u001b[0;34m,\u001b[0m \u001b[0;34m**\u001b[0m\u001b[0msend_kwargs\u001b[0m\u001b[0;34m)\u001b[0m\u001b[0;34m\u001b[0m\u001b[0;34m\u001b[0m\u001b[0m\n\u001b[0m\u001b[1;32m    531\u001b[0m \u001b[0;34m\u001b[0m\u001b[0m\n\u001b[1;32m    532\u001b[0m         \u001b[0;32mreturn\u001b[0m \u001b[0mresp\u001b[0m\u001b[0;34m\u001b[0m\u001b[0;34m\u001b[0m\u001b[0m\n",
            "\u001b[0;32m/usr/local/lib/python3.7/dist-packages/requests/sessions.py\u001b[0m in \u001b[0;36msend\u001b[0;34m(self, request, **kwargs)\u001b[0m\n\u001b[1;32m    641\u001b[0m \u001b[0;34m\u001b[0m\u001b[0m\n\u001b[1;32m    642\u001b[0m         \u001b[0;31m# Send the request\u001b[0m\u001b[0;34m\u001b[0m\u001b[0;34m\u001b[0m\u001b[0;34m\u001b[0m\u001b[0m\n\u001b[0;32m--> 643\u001b[0;31m         \u001b[0mr\u001b[0m \u001b[0;34m=\u001b[0m \u001b[0madapter\u001b[0m\u001b[0;34m.\u001b[0m\u001b[0msend\u001b[0m\u001b[0;34m(\u001b[0m\u001b[0mrequest\u001b[0m\u001b[0;34m,\u001b[0m \u001b[0;34m**\u001b[0m\u001b[0mkwargs\u001b[0m\u001b[0;34m)\u001b[0m\u001b[0;34m\u001b[0m\u001b[0;34m\u001b[0m\u001b[0m\n\u001b[0m\u001b[1;32m    644\u001b[0m \u001b[0;34m\u001b[0m\u001b[0m\n\u001b[1;32m    645\u001b[0m         \u001b[0;31m# Total elapsed time of the request (approximately)\u001b[0m\u001b[0;34m\u001b[0m\u001b[0;34m\u001b[0m\u001b[0;34m\u001b[0m\u001b[0m\n",
            "\u001b[0;32m/usr/local/lib/python3.7/dist-packages/requests/adapters.py\u001b[0m in \u001b[0;36msend\u001b[0;34m(self, request, stream, timeout, verify, cert, proxies)\u001b[0m\n\u001b[1;32m    447\u001b[0m                     \u001b[0mdecode_content\u001b[0m\u001b[0;34m=\u001b[0m\u001b[0;32mFalse\u001b[0m\u001b[0;34m,\u001b[0m\u001b[0;34m\u001b[0m\u001b[0;34m\u001b[0m\u001b[0m\n\u001b[1;32m    448\u001b[0m                     \u001b[0mretries\u001b[0m\u001b[0;34m=\u001b[0m\u001b[0mself\u001b[0m\u001b[0;34m.\u001b[0m\u001b[0mmax_retries\u001b[0m\u001b[0;34m,\u001b[0m\u001b[0;34m\u001b[0m\u001b[0;34m\u001b[0m\u001b[0m\n\u001b[0;32m--> 449\u001b[0;31m                     \u001b[0mtimeout\u001b[0m\u001b[0;34m=\u001b[0m\u001b[0mtimeout\u001b[0m\u001b[0;34m\u001b[0m\u001b[0;34m\u001b[0m\u001b[0m\n\u001b[0m\u001b[1;32m    450\u001b[0m                 )\n\u001b[1;32m    451\u001b[0m \u001b[0;34m\u001b[0m\u001b[0m\n",
            "\u001b[0;32m/usr/local/lib/python3.7/dist-packages/urllib3/connectionpool.py\u001b[0m in \u001b[0;36murlopen\u001b[0;34m(self, method, url, body, headers, retries, redirect, assert_same_host, timeout, pool_timeout, release_conn, chunked, body_pos, **response_kw)\u001b[0m\n\u001b[1;32m    598\u001b[0m                                                   \u001b[0mtimeout\u001b[0m\u001b[0;34m=\u001b[0m\u001b[0mtimeout_obj\u001b[0m\u001b[0;34m,\u001b[0m\u001b[0;34m\u001b[0m\u001b[0;34m\u001b[0m\u001b[0m\n\u001b[1;32m    599\u001b[0m                                                   \u001b[0mbody\u001b[0m\u001b[0;34m=\u001b[0m\u001b[0mbody\u001b[0m\u001b[0;34m,\u001b[0m \u001b[0mheaders\u001b[0m\u001b[0;34m=\u001b[0m\u001b[0mheaders\u001b[0m\u001b[0;34m,\u001b[0m\u001b[0;34m\u001b[0m\u001b[0;34m\u001b[0m\u001b[0m\n\u001b[0;32m--> 600\u001b[0;31m                                                   chunked=chunked)\n\u001b[0m\u001b[1;32m    601\u001b[0m \u001b[0;34m\u001b[0m\u001b[0m\n\u001b[1;32m    602\u001b[0m             \u001b[0;31m# If we're going to release the connection in ``finally:``, then\u001b[0m\u001b[0;34m\u001b[0m\u001b[0;34m\u001b[0m\u001b[0;34m\u001b[0m\u001b[0m\n",
            "\u001b[0;32m/usr/local/lib/python3.7/dist-packages/urllib3/connectionpool.py\u001b[0m in \u001b[0;36m_make_request\u001b[0;34m(self, conn, method, url, timeout, chunked, **httplib_request_kw)\u001b[0m\n\u001b[1;32m    341\u001b[0m         \u001b[0;31m# Trigger any extra validation we need to do.\u001b[0m\u001b[0;34m\u001b[0m\u001b[0;34m\u001b[0m\u001b[0;34m\u001b[0m\u001b[0m\n\u001b[1;32m    342\u001b[0m         \u001b[0;32mtry\u001b[0m\u001b[0;34m:\u001b[0m\u001b[0;34m\u001b[0m\u001b[0;34m\u001b[0m\u001b[0m\n\u001b[0;32m--> 343\u001b[0;31m             \u001b[0mself\u001b[0m\u001b[0;34m.\u001b[0m\u001b[0m_validate_conn\u001b[0m\u001b[0;34m(\u001b[0m\u001b[0mconn\u001b[0m\u001b[0;34m)\u001b[0m\u001b[0;34m\u001b[0m\u001b[0;34m\u001b[0m\u001b[0m\n\u001b[0m\u001b[1;32m    344\u001b[0m         \u001b[0;32mexcept\u001b[0m \u001b[0;34m(\u001b[0m\u001b[0mSocketTimeout\u001b[0m\u001b[0;34m,\u001b[0m \u001b[0mBaseSSLError\u001b[0m\u001b[0;34m)\u001b[0m \u001b[0;32mas\u001b[0m \u001b[0me\u001b[0m\u001b[0;34m:\u001b[0m\u001b[0;34m\u001b[0m\u001b[0;34m\u001b[0m\u001b[0m\n\u001b[1;32m    345\u001b[0m             \u001b[0;31m# Py2 raises this as a BaseSSLError, Py3 raises it as socket timeout.\u001b[0m\u001b[0;34m\u001b[0m\u001b[0;34m\u001b[0m\u001b[0;34m\u001b[0m\u001b[0m\n",
            "\u001b[0;32m/usr/local/lib/python3.7/dist-packages/urllib3/connectionpool.py\u001b[0m in \u001b[0;36m_validate_conn\u001b[0;34m(self, conn)\u001b[0m\n\u001b[1;32m    837\u001b[0m         \u001b[0;31m# Force connect early to allow us to validate the connection.\u001b[0m\u001b[0;34m\u001b[0m\u001b[0;34m\u001b[0m\u001b[0;34m\u001b[0m\u001b[0m\n\u001b[1;32m    838\u001b[0m         \u001b[0;32mif\u001b[0m \u001b[0;32mnot\u001b[0m \u001b[0mgetattr\u001b[0m\u001b[0;34m(\u001b[0m\u001b[0mconn\u001b[0m\u001b[0;34m,\u001b[0m \u001b[0;34m'sock'\u001b[0m\u001b[0;34m,\u001b[0m \u001b[0;32mNone\u001b[0m\u001b[0;34m)\u001b[0m\u001b[0;34m:\u001b[0m  \u001b[0;31m# AppEngine might not have  `.sock`\u001b[0m\u001b[0;34m\u001b[0m\u001b[0;34m\u001b[0m\u001b[0m\n\u001b[0;32m--> 839\u001b[0;31m             \u001b[0mconn\u001b[0m\u001b[0;34m.\u001b[0m\u001b[0mconnect\u001b[0m\u001b[0;34m(\u001b[0m\u001b[0;34m)\u001b[0m\u001b[0;34m\u001b[0m\u001b[0;34m\u001b[0m\u001b[0m\n\u001b[0m\u001b[1;32m    840\u001b[0m \u001b[0;34m\u001b[0m\u001b[0m\n\u001b[1;32m    841\u001b[0m         \u001b[0;32mif\u001b[0m \u001b[0;32mnot\u001b[0m \u001b[0mconn\u001b[0m\u001b[0;34m.\u001b[0m\u001b[0mis_verified\u001b[0m\u001b[0;34m:\u001b[0m\u001b[0;34m\u001b[0m\u001b[0;34m\u001b[0m\u001b[0m\n",
            "\u001b[0;32m/usr/local/lib/python3.7/dist-packages/urllib3/connection.py\u001b[0m in \u001b[0;36mconnect\u001b[0;34m(self)\u001b[0m\n\u001b[1;32m    299\u001b[0m     \u001b[0;32mdef\u001b[0m \u001b[0mconnect\u001b[0m\u001b[0;34m(\u001b[0m\u001b[0mself\u001b[0m\u001b[0;34m)\u001b[0m\u001b[0;34m:\u001b[0m\u001b[0;34m\u001b[0m\u001b[0;34m\u001b[0m\u001b[0m\n\u001b[1;32m    300\u001b[0m         \u001b[0;31m# Add certificate verification\u001b[0m\u001b[0;34m\u001b[0m\u001b[0;34m\u001b[0m\u001b[0;34m\u001b[0m\u001b[0m\n\u001b[0;32m--> 301\u001b[0;31m         \u001b[0mconn\u001b[0m \u001b[0;34m=\u001b[0m \u001b[0mself\u001b[0m\u001b[0;34m.\u001b[0m\u001b[0m_new_conn\u001b[0m\u001b[0;34m(\u001b[0m\u001b[0;34m)\u001b[0m\u001b[0;34m\u001b[0m\u001b[0;34m\u001b[0m\u001b[0m\n\u001b[0m\u001b[1;32m    302\u001b[0m         \u001b[0mhostname\u001b[0m \u001b[0;34m=\u001b[0m \u001b[0mself\u001b[0m\u001b[0;34m.\u001b[0m\u001b[0mhost\u001b[0m\u001b[0;34m\u001b[0m\u001b[0;34m\u001b[0m\u001b[0m\n\u001b[1;32m    303\u001b[0m \u001b[0;34m\u001b[0m\u001b[0m\n",
            "\u001b[0;32m/usr/local/lib/python3.7/dist-packages/urllib3/connection.py\u001b[0m in \u001b[0;36m_new_conn\u001b[0;34m(self)\u001b[0m\n\u001b[1;32m    157\u001b[0m         \u001b[0;32mtry\u001b[0m\u001b[0;34m:\u001b[0m\u001b[0;34m\u001b[0m\u001b[0;34m\u001b[0m\u001b[0m\n\u001b[1;32m    158\u001b[0m             conn = connection.create_connection(\n\u001b[0;32m--> 159\u001b[0;31m                 (self._dns_host, self.port), self.timeout, **extra_kw)\n\u001b[0m\u001b[1;32m    160\u001b[0m \u001b[0;34m\u001b[0m\u001b[0m\n\u001b[1;32m    161\u001b[0m         \u001b[0;32mexcept\u001b[0m \u001b[0mSocketTimeout\u001b[0m\u001b[0;34m:\u001b[0m\u001b[0;34m\u001b[0m\u001b[0;34m\u001b[0m\u001b[0m\n",
            "\u001b[0;32m/usr/local/lib/python3.7/dist-packages/urllib3/util/connection.py\u001b[0m in \u001b[0;36mcreate_connection\u001b[0;34m(address, timeout, source_address, socket_options)\u001b[0m\n\u001b[1;32m     68\u001b[0m             \u001b[0;32mif\u001b[0m \u001b[0msource_address\u001b[0m\u001b[0;34m:\u001b[0m\u001b[0;34m\u001b[0m\u001b[0;34m\u001b[0m\u001b[0m\n\u001b[1;32m     69\u001b[0m                 \u001b[0msock\u001b[0m\u001b[0;34m.\u001b[0m\u001b[0mbind\u001b[0m\u001b[0;34m(\u001b[0m\u001b[0msource_address\u001b[0m\u001b[0;34m)\u001b[0m\u001b[0;34m\u001b[0m\u001b[0;34m\u001b[0m\u001b[0m\n\u001b[0;32m---> 70\u001b[0;31m             \u001b[0msock\u001b[0m\u001b[0;34m.\u001b[0m\u001b[0mconnect\u001b[0m\u001b[0;34m(\u001b[0m\u001b[0msa\u001b[0m\u001b[0;34m)\u001b[0m\u001b[0;34m\u001b[0m\u001b[0;34m\u001b[0m\u001b[0m\n\u001b[0m\u001b[1;32m     71\u001b[0m             \u001b[0;32mreturn\u001b[0m \u001b[0msock\u001b[0m\u001b[0;34m\u001b[0m\u001b[0;34m\u001b[0m\u001b[0m\n\u001b[1;32m     72\u001b[0m \u001b[0;34m\u001b[0m\u001b[0m\n",
            "\u001b[0;31mKeyboardInterrupt\u001b[0m: "
          ]
        }
      ],
      "source": [
        "for k,v in user_list.items():\n",
        "  sdk.auth.logout() #This is required if you stopped the sdk mid-way\n",
        "  sudo_auth = sdk.login_user(v)\n",
        "  sdk.auth.login_user(v)\n",
        "  retrieve_favorite_content()\n",
        "print(favorited_content)"
      ]
    }
  ],
  "metadata": {
    "accelerator": "GPU",
    "colab": {
      "collapsed_sections": [
        "PhTZpjrSL37Z",
        "QwLfl76P4Vzz",
        "VZts2VFPnKtM"
      ],
      "machine_shape": "hm",
      "provenance": [],
      "include_colab_link": true
    },
    "gpuClass": "premium",
    "kernelspec": {
      "display_name": "Python 3",
      "name": "python3"
    },
    "language_info": {
      "name": "python"
    }
  },
  "nbformat": 4,
  "nbformat_minor": 0
}